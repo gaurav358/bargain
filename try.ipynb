{
 "cells": [
  {
   "cell_type": "code",
   "execution_count": 14,
   "metadata": {
    "id": "1tta_xLczLue"
   },
   "outputs": [],
   "source": [
    "import pandas as pd\n",
    "import numpy as np\n",
    "import seaborn as sns\n",
    "from matplotlib import pyplot as plt\n",
    "import matplotlib\n",
    "%matplotlib inline\n",
    "import warnings\n",
    "warnings.filterwarnings('ignore')\n"
   ]
  },
  {
   "cell_type": "code",
   "execution_count": 15,
   "metadata": {},
   "outputs": [
    {
     "data": {
      "text/html": [
       "<div>\n",
       "<style scoped>\n",
       "    .dataframe tbody tr th:only-of-type {\n",
       "        vertical-align: middle;\n",
       "    }\n",
       "\n",
       "    .dataframe tbody tr th {\n",
       "        vertical-align: top;\n",
       "    }\n",
       "\n",
       "    .dataframe thead th {\n",
       "        text-align: right;\n",
       "    }\n",
       "</style>\n",
       "<table border=\"1\" class=\"dataframe\">\n",
       "  <thead>\n",
       "    <tr style=\"text-align: right;\">\n",
       "      <th></th>\n",
       "      <th>ProductID</th>\n",
       "      <th>CustomerID</th>\n",
       "      <th>Quantity</th>\n",
       "      <th>UnitPrice</th>\n",
       "      <th>Discount</th>\n",
       "      <th>Customer</th>\n",
       "    </tr>\n",
       "  </thead>\n",
       "  <tbody>\n",
       "    <tr>\n",
       "      <th>0</th>\n",
       "      <td>10002</td>\n",
       "      <td>12673</td>\n",
       "      <td>1</td>\n",
       "      <td>0.85</td>\n",
       "      <td>9.09</td>\n",
       "      <td>1</td>\n",
       "    </tr>\n",
       "    <tr>\n",
       "      <th>1</th>\n",
       "      <td>10002</td>\n",
       "      <td>12754</td>\n",
       "      <td>1</td>\n",
       "      <td>0.85</td>\n",
       "      <td>9.09</td>\n",
       "      <td>0</td>\n",
       "    </tr>\n",
       "    <tr>\n",
       "      <th>2</th>\n",
       "      <td>10002</td>\n",
       "      <td>12748</td>\n",
       "      <td>1</td>\n",
       "      <td>0.85</td>\n",
       "      <td>9.09</td>\n",
       "      <td>1</td>\n",
       "    </tr>\n",
       "    <tr>\n",
       "      <th>3</th>\n",
       "      <td>10002</td>\n",
       "      <td>13069</td>\n",
       "      <td>1</td>\n",
       "      <td>0.85</td>\n",
       "      <td>9.09</td>\n",
       "      <td>1</td>\n",
       "    </tr>\n",
       "    <tr>\n",
       "      <th>4</th>\n",
       "      <td>10002</td>\n",
       "      <td>14525</td>\n",
       "      <td>1</td>\n",
       "      <td>0.85</td>\n",
       "      <td>9.09</td>\n",
       "      <td>1</td>\n",
       "    </tr>\n",
       "  </tbody>\n",
       "</table>\n",
       "</div>"
      ],
      "text/plain": [
       "   ProductID  CustomerID  Quantity  UnitPrice  Discount  Customer\n",
       "0      10002       12673         1       0.85      9.09         1\n",
       "1      10002       12754         1       0.85      9.09         0\n",
       "2      10002       12748         1       0.85      9.09         1\n",
       "3      10002       13069         1       0.85      9.09         1\n",
       "4      10002       14525         1       0.85      9.09         1"
      ]
     },
     "execution_count": 15,
     "metadata": {},
     "output_type": "execute_result"
    }
   ],
   "source": [
    "df = pd.read_csv(\"dat.csv\")\n",
    "df.head()"
   ]
  },
  {
   "cell_type": "code",
   "execution_count": 3,
   "metadata": {},
   "outputs": [
    {
     "data": {
      "text/html": [
       "<div>\n",
       "<style scoped>\n",
       "    .dataframe tbody tr th:only-of-type {\n",
       "        vertical-align: middle;\n",
       "    }\n",
       "\n",
       "    .dataframe tbody tr th {\n",
       "        vertical-align: top;\n",
       "    }\n",
       "\n",
       "    .dataframe thead th {\n",
       "        text-align: right;\n",
       "    }\n",
       "</style>\n",
       "<table border=\"1\" class=\"dataframe\">\n",
       "  <thead>\n",
       "    <tr style=\"text-align: right;\">\n",
       "      <th></th>\n",
       "      <th>ProductID</th>\n",
       "      <th>CustomerID</th>\n",
       "      <th>Quantity</th>\n",
       "      <th>UnitPrice</th>\n",
       "      <th>Discount</th>\n",
       "      <th>Customer</th>\n",
       "    </tr>\n",
       "  </thead>\n",
       "  <tbody>\n",
       "    <tr>\n",
       "      <th>count</th>\n",
       "      <td>100142.000000</td>\n",
       "      <td>100142.000000</td>\n",
       "      <td>100142.000000</td>\n",
       "      <td>100142.000000</td>\n",
       "      <td>100142.000000</td>\n",
       "      <td>100142.000000</td>\n",
       "    </tr>\n",
       "    <tr>\n",
       "      <th>mean</th>\n",
       "      <td>21256.209692</td>\n",
       "      <td>15288.594546</td>\n",
       "      <td>14.122836</td>\n",
       "      <td>2.197280</td>\n",
       "      <td>39.028071</td>\n",
       "      <td>0.956861</td>\n",
       "    </tr>\n",
       "    <tr>\n",
       "      <th>std</th>\n",
       "      <td>1151.718674</td>\n",
       "      <td>1734.317098</td>\n",
       "      <td>50.627997</td>\n",
       "      <td>2.344671</td>\n",
       "      <td>24.202740</td>\n",
       "      <td>0.203170</td>\n",
       "    </tr>\n",
       "    <tr>\n",
       "      <th>min</th>\n",
       "      <td>10002.000000</td>\n",
       "      <td>12347.000000</td>\n",
       "      <td>1.000000</td>\n",
       "      <td>0.040000</td>\n",
       "      <td>9.090000</td>\n",
       "      <td>0.000000</td>\n",
       "    </tr>\n",
       "    <tr>\n",
       "      <th>25%</th>\n",
       "      <td>21058.000000</td>\n",
       "      <td>13890.000000</td>\n",
       "      <td>2.000000</td>\n",
       "      <td>0.850000</td>\n",
       "      <td>9.090000</td>\n",
       "      <td>1.000000</td>\n",
       "    </tr>\n",
       "    <tr>\n",
       "      <th>50%</th>\n",
       "      <td>21429.000000</td>\n",
       "      <td>15150.000000</td>\n",
       "      <td>6.000000</td>\n",
       "      <td>1.450000</td>\n",
       "      <td>53.490000</td>\n",
       "      <td>1.000000</td>\n",
       "    </tr>\n",
       "    <tr>\n",
       "      <th>75%</th>\n",
       "      <td>21811.000000</td>\n",
       "      <td>16814.000000</td>\n",
       "      <td>12.000000</td>\n",
       "      <td>2.550000</td>\n",
       "      <td>55.440000</td>\n",
       "      <td>1.000000</td>\n",
       "    </tr>\n",
       "    <tr>\n",
       "      <th>max</th>\n",
       "      <td>22072.000000</td>\n",
       "      <td>18287.000000</td>\n",
       "      <td>3906.000000</td>\n",
       "      <td>79.950000</td>\n",
       "      <td>93.910000</td>\n",
       "      <td>1.000000</td>\n",
       "    </tr>\n",
       "  </tbody>\n",
       "</table>\n",
       "</div>"
      ],
      "text/plain": [
       "           ProductID     CustomerID       Quantity      UnitPrice  \\\n",
       "count  100142.000000  100142.000000  100142.000000  100142.000000   \n",
       "mean    21256.209692   15288.594546      14.122836       2.197280   \n",
       "std      1151.718674    1734.317098      50.627997       2.344671   \n",
       "min     10002.000000   12347.000000       1.000000       0.040000   \n",
       "25%     21058.000000   13890.000000       2.000000       0.850000   \n",
       "50%     21429.000000   15150.000000       6.000000       1.450000   \n",
       "75%     21811.000000   16814.000000      12.000000       2.550000   \n",
       "max     22072.000000   18287.000000    3906.000000      79.950000   \n",
       "\n",
       "            Discount       Customer  \n",
       "count  100142.000000  100142.000000  \n",
       "mean       39.028071       0.956861  \n",
       "std        24.202740       0.203170  \n",
       "min         9.090000       0.000000  \n",
       "25%         9.090000       1.000000  \n",
       "50%        53.490000       1.000000  \n",
       "75%        55.440000       1.000000  \n",
       "max        93.910000       1.000000  "
      ]
     },
     "execution_count": 3,
     "metadata": {},
     "output_type": "execute_result"
    }
   ],
   "source": [
    "df.describe()"
   ]
  },
  {
   "cell_type": "code",
   "execution_count": 16,
   "metadata": {},
   "outputs": [
    {
     "data": {
      "text/plain": [
       "ProductID     0\n",
       "CustomerID    0\n",
       "Quantity      0\n",
       "UnitPrice     0\n",
       "Discount      0\n",
       "Customer      0\n",
       "dtype: int64"
      ]
     },
     "execution_count": 16,
     "metadata": {},
     "output_type": "execute_result"
    }
   ],
   "source": [
    "df.isnull().sum()\n"
   ]
  },
  {
   "cell_type": "code",
   "execution_count": 17,
   "metadata": {},
   "outputs": [],
   "source": [
    "X = df.drop(columns=['Customer'], axis=1)\n",
    "y = df['Customer']"
   ]
  },
  {
   "cell_type": "code",
   "execution_count": 18,
   "metadata": {},
   "outputs": [],
   "source": [
    "from sklearn.model_selection import train_test_split\n",
    "x_train, x_test, y_train, y_test = train_test_split(X, y, test_size=0.2, random_state=42)"
   ]
  },
  {
   "cell_type": "code",
   "execution_count": 19,
   "metadata": {},
   "outputs": [],
   "source": [
    "from sklearn.tree import DecisionTreeClassifier\n",
    "from sklearn.metrics import accuracy_score\n",
    "from sklearn import metrics\n",
    "regressor = DecisionTreeClassifier(random_state=42)\n",
    "r = regressor.fit(x_train, y_train)\n",
    "acc=r.predict(x_test)\n"
   ]
  },
  {
   "cell_type": "code",
   "execution_count": 20,
   "metadata": {},
   "outputs": [
    {
     "name": "stdout",
     "output_type": "stream",
     "text": [
      "              precision    recall  f1-score   support\n",
      "\n",
      "           0       0.30      0.25      0.27       902\n",
      "           1       0.97      0.97      0.97     19127\n",
      "\n",
      "    accuracy                           0.94     20029\n",
      "   macro avg       0.63      0.61      0.62     20029\n",
      "weighted avg       0.93      0.94      0.94     20029\n",
      "\n"
     ]
    }
   ],
   "source": [
    "from sklearn.metrics import classification_report\n",
    "print(classification_report(y_test,acc))"
   ]
  },
  {
   "cell_type": "code",
   "execution_count": 22,
   "metadata": {},
   "outputs": [],
   "source": [
    "from sklearn.ensemble import RandomForestClassifier\n",
    "rreg = RandomForestClassifier()\n",
    "rmodel = rreg.fit(x_train, y_train)\n",
    "racc=rmodel.predict(x_test)"
   ]
  },
  {
   "cell_type": "code",
   "execution_count": 23,
   "metadata": {},
   "outputs": [
    {
     "name": "stdout",
     "output_type": "stream",
     "text": [
      "              precision    recall  f1-score   support\n",
      "\n",
      "           0       0.28      0.11      0.16       902\n",
      "           1       0.96      0.99      0.97     19127\n",
      "\n",
      "    accuracy                           0.95     20029\n",
      "   macro avg       0.62      0.55      0.56     20029\n",
      "weighted avg       0.93      0.95      0.94     20029\n",
      "\n"
     ]
    }
   ],
   "source": [
    "from sklearn.metrics import classification_report\n",
    "print(classification_report(y_test,racc))"
   ]
  },
  {
   "cell_type": "code",
   "execution_count": 24,
   "metadata": {},
   "outputs": [
    {
     "name": "stdout",
     "output_type": "stream",
     "text": [
      "Accuracy score= 0.954965300314544\n",
      "Precision score= 0.954965300314544\n",
      "Recall score= 1.0\n",
      "F1 score= 0.9769639391153335\n",
      "              precision    recall  f1-score   support\n",
      "\n",
      "           0       0.00      0.00      0.00       902\n",
      "           1       0.95      1.00      0.98     19127\n",
      "\n",
      "    accuracy                           0.95     20029\n",
      "   macro avg       0.48      0.50      0.49     20029\n",
      "weighted avg       0.91      0.95      0.93     20029\n",
      "\n",
      "Confusion Matrix\n"
     ]
    },
    {
     "data": {
      "image/png": "[encoded data removed]",
      "text/plain": [
       "<Figure size 432x288 with 2 Axes>"
      ]
     },
     "metadata": {
      "needs_background": "light"
     },
     "output_type": "display_data"
    }
   ],
   "source": [
    "from sklearn.metrics import confusion_matrix,accuracy_score,precision_score,recall_score,f1_score,roc_auc_score,roc_curve,classification_report\n",
    "from sklearn.linear_model import LogisticRegression\n",
    "logr= LogisticRegression()\n",
    "logr.fit(x_train,y_train)\n",
    "yhat=logr.predict(x_test)\n",
    "print(\"Accuracy score=\",accuracy_score(y_test,yhat))\n",
    "print(\"Precision score=\",precision_score(y_test,yhat))\n",
    "print(\"Recall score=\",recall_score(y_test,yhat))\n",
    "print(\"F1 score=\",f1_score(y_test,yhat))\n",
    "print(classification_report(y_test,yhat))\n",
    "print(\"Confusion Matrix\")\n",
    "sns.heatmap(confusion_matrix(y_test,yhat),annot=True)\n",
    "plt.show()"
   ]
  },
  {
   "cell_type": "code",
   "execution_count": null,
   "metadata": {},
   "outputs": [],
   "source": []
  }
 ],
 "metadata": {
  "colab": {
   "authorship_tag": "ABX9TyOeV647ioTCPf4mBWNGgqFD",
   "collapsed_sections": [],
   "name": "loan.ipynb",
   "provenance": []
  },
  "kernelspec": {
   "display_name": "Python 3 (ipykernel)",
   "language": "python",
   "name": "python3"
  },
  "language_info": {
   "codemirror_mode": {
    "name": "ipython",
    "version": 3
   },
   "file_extension": ".py",
   "mimetype": "text/x-python",
   "name": "python",
   "nbconvert_exporter": "python",
   "pygments_lexer": "ipython3",
   "version": "3.8.10"
  }
 },
 "nbformat": 4,
 "nbformat_minor": 1
}
